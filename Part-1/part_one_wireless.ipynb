{
  "cells": [
    {
      "cell_type": "code",
      "execution_count": 6,
      "metadata": {
        "colab": {
          "base_uri": "https://localhost:8080/"
        },
        "id": "-8eFW_wl1n39",
        "outputId": "f8f48dcb-396e-40f7-cd46-118265ce1ca6"
      },
      "outputs": [
        {
          "output_type": "stream",
          "name": "stdout",
          "text": [
            "\r0% [Working]\r            \rHit:1 https://cloud.r-project.org/bin/linux/ubuntu focal-cran40/ InRelease\n",
            "\r0% [Connecting to archive.ubuntu.com (91.189.91.38)] [Waiting for headers] [Wai\r                                                                               \rHit:2 http://security.ubuntu.com/ubuntu focal-security InRelease\n",
            "\r0% [Connecting to archive.ubuntu.com (91.189.91.38)] [Waiting for headers] [Con\r                                                                               \rHit:3 http://archive.ubuntu.com/ubuntu focal InRelease\n",
            "\r0% [Waiting for headers] [Waiting for headers] [Connecting to ppa.launchpad.net\r                                                                               \rIgn:4 https://developer.download.nvidia.com/compute/machine-learning/repos/ubuntu2004/x86_64  InRelease\n",
            "\r0% [Waiting for headers] [Waiting for headers] [Connecting to ppa.launchpad.net\r                                                                               \rHit:5 https://developer.download.nvidia.com/compute/cuda/repos/ubuntu2004/x86_64  InRelease\n",
            "\r                                                                               \r0% [Waiting for headers] [Connecting to ppa.launchpad.net (185.125.190.52)]\r                                                                           \rHit:6 http://archive.ubuntu.com/ubuntu focal-updates InRelease\n",
            "\r                                                                           \r0% [Waiting for headers] [Waiting for headers] [Waiting for headers]\r                                                                    \rHit:7 https://developer.download.nvidia.com/compute/machine-learning/repos/ubuntu2004/x86_64  Release\n",
            "Hit:8 http://archive.ubuntu.com/ubuntu focal-backports InRelease\n",
            "Hit:9 http://ppa.launchpad.net/c2d4u.team/c2d4u4.0+/ubuntu focal InRelease\n",
            "Hit:10 http://ppa.launchpad.net/cran/libgit2/ubuntu focal InRelease\n",
            "Hit:11 http://ppa.launchpad.net/deadsnakes/ppa/ubuntu focal InRelease\n",
            "Hit:12 http://ppa.launchpad.net/graphics-drivers/ppa/ubuntu focal InRelease\n",
            "Reading package lists... Done\n"
          ]
        }
      ],
      "source": [
        "# Activate Spark in our Colab notebook.\n",
        "import os\n",
        "# Find the latest version of spark 3.2  from http://www.apache.org/dist/spark/ and enter as the spark version\n",
        "# For example:\n",
        "# spark_version = 'spark-3.2.2'\n",
        "spark_version = 'spark-3.2.3'\n",
        "os.environ['SPARK_VERSION']=spark_version\n",
        "\n",
        "# Install Spark and Java\n",
        "!apt-get update\n",
        "!apt-get install openjdk-11-jdk-headless -qq > /dev/null\n",
        "!wget -q http://www.apache.org/dist/spark/$SPARK_VERSION/$SPARK_VERSION-bin-hadoop2.7.tgz\n",
        "!tar xf $SPARK_VERSION-bin-hadoop2.7.tgz\n",
        "!pip install -q findspark\n",
        "\n",
        "# Set Environment Variables\n",
        "import os\n",
        "os.environ[\"JAVA_HOME\"] = \"/usr/lib/jvm/java-11-openjdk-amd64\"\n",
        "os.environ[\"SPARK_HOME\"] = f\"/content/{spark_version}-bin-hadoop2.7\"\n",
        "\n",
        "# Start a SparkSession\n",
        "import findspark\n",
        "findspark.init()"
      ]
    },
    {
      "cell_type": "code",
      "execution_count": 7,
      "metadata": {
        "colab": {
          "base_uri": "https://localhost:8080/"
        },
        "id": "BzCrgs0Z1rnw",
        "outputId": "05929cbd-59e9-45c7-fe5b-c877c19337b0"
      },
      "outputs": [
        {
          "output_type": "stream",
          "name": "stdout",
          "text": [
            "--2023-01-26 15:28:34--  https://jdbc.postgresql.org/download/postgresql-42.2.9.jar\n",
            "Resolving jdbc.postgresql.org (jdbc.postgresql.org)... 72.32.157.228, 2001:4800:3e1:1::228\n",
            "Connecting to jdbc.postgresql.org (jdbc.postgresql.org)|72.32.157.228|:443... connected.\n",
            "HTTP request sent, awaiting response... 200 OK\n",
            "Length: 914037 (893K) [application/java-archive]\n",
            "Saving to: ‘postgresql-42.2.9.jar.1’\n",
            "\n",
            "postgresql-42.2.9.j 100%[===================>] 892.61K  --.-KB/s    in 0.08s   \n",
            "\n",
            "2023-01-26 15:28:34 (10.6 MB/s) - ‘postgresql-42.2.9.jar.1’ saved [914037/914037]\n",
            "\n"
          ]
        }
      ],
      "source": [
        "# Get postgresql package\n",
        "!wget https://jdbc.postgresql.org/download/postgresql-42.2.9.jar"
      ]
    },
    {
      "cell_type": "code",
      "execution_count": 8,
      "metadata": {
        "id": "0DuBth0V2PR8"
      },
      "outputs": [],
      "source": [
        "# Import Spark and create a SparkSession\n",
        "from pyspark.sql import SparkSession\n",
        "spark = SparkSession.builder.appName(\"BigData-HW-1\").config(\"spark.driver.extraClassPath\",\"/content/postgresql-42.2.9.jar\").getOrCreate()"
      ]
    },
    {
      "cell_type": "markdown",
      "metadata": {
        "id": "D3W2XJVi2CU-"
      },
      "source": [
        "# Extract the Amazon Data into Spark DataFrame"
      ]
    },
    {
      "cell_type": "code",
      "execution_count": 9,
      "metadata": {
        "colab": {
          "base_uri": "https://localhost:8080/"
        },
        "id": "Na_stw7b1wfU",
        "outputId": "ead40dc3-054c-474c-cc7c-9638c2af1bbc"
      },
      "outputs": [
        {
          "output_type": "stream",
          "name": "stdout",
          "text": [
            "+-----------+-----------+--------------+----------+--------------+--------------------+----------------+-----------+-------------+-----------+----+-----------------+--------------------+--------------------+-----------+\n",
            "|marketplace|customer_id|     review_id|product_id|product_parent|       product_title|product_category|star_rating|helpful_votes|total_votes|vine|verified_purchase|     review_headline|         review_body|review_date|\n",
            "+-----------+-----------+--------------+----------+--------------+--------------------+----------------+-----------+-------------+-----------+----+-----------------+--------------------+--------------------+-----------+\n",
            "|         US|   16414143|R3W4P9UBGNGH1U|B00YL0EKWE|     852431543|LG G4 Case Hard T...|        Wireless|          2|            1|          3|   N|                Y|Looks good, funct...|2 issues  -  Once...| 2015-08-31|\n",
            "|         US|   50800750|R15V54KBMTQWAY|B00XK95RPQ|     516894650|Selfie Stick Fibl...|        Wireless|          4|            0|          0|   N|                N| A fun little gadget|I’m embarrassed t...| 2015-08-31|\n",
            "|         US|   15184378| RY8I449HNXSVF|B00SXRXUKO|     984297154|Tribe AB40 Water ...|        Wireless|          5|            0|          0|   N|                Y|          Five Stars|  Fits iPhone 6 well| 2015-08-31|\n",
            "|         US|   10203548|R18TLJYCKJFLSR|B009V5X1CE|     279912704|RAVPower® Element...|        Wireless|          5|            0|          0|   N|                Y|       Great charger|Great charger.  I...| 2015-08-31|\n",
            "|         US|     488280|R1NK26SWS53B8Q|B00D93OVF0|     662791300|Fosmon Micro USB ...|        Wireless|          5|            0|          0|   N|                Y|          Five Stars|Great for the pri...| 2015-08-31|\n",
            "|         US|   13334021|R11LOHEDYJALTN|B00XVGJMDQ|     421688488|iPhone 6 Case, Vo...|        Wireless|          5|            0|          0|   N|                Y|          Five Stars|Great Case, bette...| 2015-08-31|\n",
            "|         US|   27520697|R3ALQVQB2P9LA7|B00KQW1X1C|     554285554|Nokia Lumia 630 R...|        Wireless|          4|            0|          0|   N|                Y|          Four Stars|Easy to set up an...| 2015-08-31|\n",
            "|         US|   48086021|R3MWLXLNO21PDQ|B00IP1MQNK|     488006702|Lumsing 10400mah ...|        Wireless|          5|            0|          0|   N|                Y|          Five Stars|         Works great| 2015-08-31|\n",
            "|         US|   12738196|R2L15IS24CX0LI|B00HVORET8|     389677711|iPhone 5S Battery...|        Wireless|          5|            0|          0|   N|                Y|      So far so good|So far so good. I...| 2015-08-31|\n",
            "|         US|   15867807|R1DJ8976WPWVZU|B00HX3G6J6|     299654876|HTC One M8 Screen...|        Wireless|          3|            0|          0|   N|                Y|seems durable but...|seems durable but...| 2015-08-31|\n",
            "|         US|    1972249|R3MRWNNR8CBTB7|B00U4NATNQ|     577878727|S6 Case - Bear Mo...|        Wireless|          5|            0|          0|   N|                Y|Super thin, light...|Super thin, light...| 2015-08-31|\n",
            "|         US|   10956619|R1DS6DKTUXAQK3|B00SZEFDH8|     654620704|BLU Studio X, Unl...|        Wireless|          5|            0|          0|   N|                Y|          Five Stars|As good as the Sa...| 2015-08-31|\n",
            "|         US|   14805911| RWJM5E0TWUJD2|B00JRJUL9U|     391166958|EZOPower 5-Port U...|        Wireless|          5|            0|          0|   N|                Y|            EZOPower|I received this o...| 2015-08-31|\n",
            "|         US|   15611116|R1XTJKDYNCRGAC|B00KQ4T0HE|     481551630|iPhone 6S Case &i...|        Wireless|          1|            0|          0|   N|                Y|Very cheap case. ...|Very cheap case. ...| 2015-08-31|\n",
            "|         US|   39298603|R2UZL3DPWEU1XW|B00M0YWKPM|     685107474| iPhone 6s Plus Case|        Wireless|          5|            0|          0|   N|                Y|          Five Stars|       son loves it.| 2015-08-31|\n",
            "|         US|   17552454|R2EZXET9KBFFU3|B00KDZEE68|     148320945|zBoost ZB575-A TR...|        Wireless|          1|            0|          0|   N|                Y|            One Star|you have to turn ...| 2015-08-31|\n",
            "|         US|   12218556|R26VY1L1FD3LPU|B00BJN45GM|      47788188|OtterBox Defender...|        Wireless|          5|            0|          0|   N|                Y|          Five Stars|  Awesome, thank you| 2015-08-31|\n",
            "|         US|   21872923|R2SSA4NSFCV18T|B00SA86SXW|     748759272|Aduro PowerUP 30W...|        Wireless|          5|            0|          0|   N|                N|          Five Stars|         nice, smart| 2015-08-31|\n",
            "|         US|   16264332|R1G6333JHJNEUQ|B00Q3I68TU|     974085141|LilGadgets Connec...|        Wireless|          5|            0|          0|   N|                Y|Great headphones ...|We love these hea...| 2015-08-31|\n",
            "|         US|    6042304|R2DRG0UZXJQ0PE|B00TN4J1TA|     716174627|Anker Aluminum Mu...|        Wireless|          5|            0|          0|   N|                Y|          Five Stars|This is well wort...| 2015-08-31|\n",
            "+-----------+-----------+--------------+----------+--------------+--------------------+----------------+-----------+-------------+-----------+----+-----------------+--------------------+--------------------+-----------+\n",
            "only showing top 20 rows\n",
            "\n"
          ]
        }
      ],
      "source": [
        "# Read in the data from an S3 Bucket\n",
        "\n",
        "from pyspark import SparkFiles\n",
        "url =\"https://s3.amazonaws.com/amazon-reviews-pds/tsv/amazon_reviews_us_Wireless_v1_00.tsv.gz\"\n",
        "spark.sparkContext.addFile(url)\n",
        "\n",
        "df = spark.read.option(\"sep\", \"\\t\").csv(\"file://\" + SparkFiles.get(\"amazon_reviews_us_Wireless_v1_00.tsv.gz\"), header = True)\n",
        "\n",
        "# Show DataFrame\n",
        "df.show()\n"
      ]
    },
    {
      "cell_type": "code",
      "execution_count": 10,
      "metadata": {
        "colab": {
          "base_uri": "https://localhost:8080/"
        },
        "id": "Cayz-3Q52IM3",
        "outputId": "9d417741-743b-4cf6-9b58-83f34ea7a07a"
      },
      "outputs": [
        {
          "output_type": "execute_result",
          "data": {
            "text/plain": [
              "9002021"
            ]
          },
          "metadata": {},
          "execution_count": 10
        }
      ],
      "source": [
        "# Get the number of rows in the DataFrame.\n",
        "rows = df.count()\n",
        "rows"
      ]
    },
    {
      "cell_type": "markdown",
      "metadata": {
        "id": "C9U0rkGZ2eu7"
      },
      "source": [
        "# Transform the Data"
      ]
    },
    {
      "cell_type": "markdown",
      "source": [
        "## Create the \"review_id_table\"."
      ],
      "metadata": {
        "id": "dUoftWoKtM_c"
      }
    },
    {
      "cell_type": "code",
      "execution_count": 11,
      "metadata": {
        "id": "2tMYkSIk2d-m",
        "outputId": "c181e038-6393-4c93-f730-3c304f8fed0e",
        "colab": {
          "base_uri": "https://localhost:8080/"
        }
      },
      "outputs": [
        {
          "output_type": "stream",
          "name": "stdout",
          "text": [
            "+--------------+-----------+----------+--------------+-----------+\n",
            "|     review_id|customer_id|product_id|product_parent|review_date|\n",
            "+--------------+-----------+----------+--------------+-----------+\n",
            "|R3W4P9UBGNGH1U|   16414143|B00YL0EKWE|     852431543| 2015-08-31|\n",
            "|R15V54KBMTQWAY|   50800750|B00XK95RPQ|     516894650| 2015-08-31|\n",
            "| RY8I449HNXSVF|   15184378|B00SXRXUKO|     984297154| 2015-08-31|\n",
            "|R18TLJYCKJFLSR|   10203548|B009V5X1CE|     279912704| 2015-08-31|\n",
            "|R1NK26SWS53B8Q|     488280|B00D93OVF0|     662791300| 2015-08-31|\n",
            "|R11LOHEDYJALTN|   13334021|B00XVGJMDQ|     421688488| 2015-08-31|\n",
            "|R3ALQVQB2P9LA7|   27520697|B00KQW1X1C|     554285554| 2015-08-31|\n",
            "|R3MWLXLNO21PDQ|   48086021|B00IP1MQNK|     488006702| 2015-08-31|\n",
            "|R2L15IS24CX0LI|   12738196|B00HVORET8|     389677711| 2015-08-31|\n",
            "|R1DJ8976WPWVZU|   15867807|B00HX3G6J6|     299654876| 2015-08-31|\n",
            "|R3MRWNNR8CBTB7|    1972249|B00U4NATNQ|     577878727| 2015-08-31|\n",
            "|R1DS6DKTUXAQK3|   10956619|B00SZEFDH8|     654620704| 2015-08-31|\n",
            "| RWJM5E0TWUJD2|   14805911|B00JRJUL9U|     391166958| 2015-08-31|\n",
            "|R1XTJKDYNCRGAC|   15611116|B00KQ4T0HE|     481551630| 2015-08-31|\n",
            "|R2UZL3DPWEU1XW|   39298603|B00M0YWKPM|     685107474| 2015-08-31|\n",
            "|R2EZXET9KBFFU3|   17552454|B00KDZEE68|     148320945| 2015-08-31|\n",
            "|R26VY1L1FD3LPU|   12218556|B00BJN45GM|      47788188| 2015-08-31|\n",
            "|R2SSA4NSFCV18T|   21872923|B00SA86SXW|     748759272| 2015-08-31|\n",
            "|R1G6333JHJNEUQ|   16264332|B00Q3I68TU|     974085141| 2015-08-31|\n",
            "|R2DRG0UZXJQ0PE|    6042304|B00TN4J1TA|     716174627| 2015-08-31|\n",
            "+--------------+-----------+----------+--------------+-----------+\n",
            "only showing top 20 rows\n",
            "\n"
          ]
        }
      ],
      "source": [
        "from pyspark.sql.functions import to_date\n",
        "# Create the \"review_id_df\" DataFrame with the appropriate columns and data types.\n",
        "review_id_df = df.select (['review_id', 'customer_id', 'product_id', 'product_parent', 'review_date'])\n",
        "review_id_df.show()"
      ]
    },
    {
      "cell_type": "markdown",
      "source": [
        "## Create the \"products\" Table"
      ],
      "metadata": {
        "id": "aAVCFjXhtXO8"
      }
    },
    {
      "cell_type": "code",
      "execution_count": 12,
      "metadata": {
        "id": "g9gTNhT62je4",
        "outputId": "128228a5-9c66-451a-f38f-3ca08f11bbda",
        "colab": {
          "base_uri": "https://localhost:8080/"
        }
      },
      "outputs": [
        {
          "output_type": "stream",
          "name": "stdout",
          "text": [
            "+----------+--------------------------------------------------------------------------------------------------------------------------------------------------------------------------------------------------------------------------------------------------------------------------------------------------------------------------------------------------------------------------+\n",
            "|product_id|product_title                                                                                                                                                                                                                                                                                                                                                             |\n",
            "+----------+--------------------------------------------------------------------------------------------------------------------------------------------------------------------------------------------------------------------------------------------------------------------------------------------------------------------------------------------------------------------------+\n",
            "|B010LVPJH6|LG G Watch Urbane Screen Protector, Rerii Tempered Glass Screen Protector for LG G Watch Urbane 1st Generation W150, High Definition 9H Hardness 0.3mm Thickness Real Tempered Glass                                                                                                                                                                                      |\n",
            "|B00K5ZNXZ4|Minisuit Sporty Armband + Secret Pocket for Samsung Galaxy S6 Edge S5 S4 S3                                                                                                                                                                                                                                                                                               |\n",
            "|B00S9RBQOK|iPhone 6 Plus Case, [Slim Shockproof] Soft Silicone Gel Rubber Case Flexible TPU ed Bumper Case Skin Cover for Apple iPhone 6 Plus 5.5\"                                                                                                                                                                                                                                   |\n",
            "|B0116N7GYC|Selfie Stick, Portable Self Timer Monopod Foldable Pocket Size Cabled Wired Selfie Stick Pole with Remote Shutter Button Extendable Handheld Selfie Monopod for Iphone Samsung and Other System Over IOS 6.0 and Android 4.2.2 Smartphones                                                                                                                                |\n",
            "|B009UNH0CY|Plantronics Voyager Legend Eartip Kit - Non-Retail Packaging - Medium - Black                                                                                                                                                                                                                                                                                             |\n",
            "|B00L8GFYAG|Eallc New Quality Smart Leather Flip Stand Case Cover for Samsung Galaxy Tab 4 7 (7.0 Inch) Bonus: Screen Protector + Stylus Pen + Cleaning Cloth for Samsung Galaxy Tab 4 7 Tablet SM-T230/SM-T231                                                                                                                                                                       |\n",
            "|B00R3LMTI0|Kaleidio [Wallop Armor] Dual Layer Shock Proof Case Cover w/ Kickstand for Samsung Galaxy Note Edge [Package Includes a Overbrawn Prying Tool & Stylux Stylus/Pen Duts Plug Combo] - Retail Packaging                                                                                                                                                                     |\n",
            "|B011R0VG36|Galaxy Note 4 Case,Galaxy Note 4 checkered Case,GX-LV New Luxury Deluxe Classic Brown Black White Grid Checker Checkered Pattern Leather Flip Pouch Wallet Cover Case with Credit Card Slots and Magnet Clasp for Samsung Galaxy Note 4 With Free 1 Screen Protector and 1 Stylus                                                                                         |\n",
            "|B00BXX0QVQ|iKross Black Dual LED Clip-On Reading Light for Nook, eBook Readers, Tablet, Book, Textbook and more                                                                                                                                                                                                                                                                      |\n",
            "|B00F4AYI2M|Incipio DualPro Case for LG G2                                                                                                                                                                                                                                                                                                                                            |\n",
            "|B00GPI3OHC|Retevis H-777 2 Way Radio Walkie Talkie UHF 400-470MHz 3W 16CH Flashlight with Earpiece Hand Held Ham Radio Transceiver (15 Pack)                                                                                                                                                                                                                                         |\n",
            "|B00Y9ZUVU6|Tiwkich 2 in 1 Dual USB Car Cigarette USB Charger and 5V/2.1A Home Wall Travel AC Charger Power Adapter for Apple iPad Air, New iPad 4 3 2 , iPad Mini 3/2, iPod Nano, iPod Classic, iPhone 6 6 plus 5S 5C 5 4s 4 3 3Gs,iPod Touch, Samsung Galaxy Tab S5 S4 S3 S2, Note 4 3 2, Nexus 7,HTC Evo, SmartPhones, E-readers, PDA, Bluetooth Speaker 2.1A USB Ports etc (Black)|\n",
            "|B00W65SYHS|LG G4 case, Caseology® [Wavelength Series] [Coral Pink] Textured Pattern Grip Cover [Shock Proof] LG G4 case,   Coral Pink                                                                                                                                                                                                                                                |\n",
            "|B00V5OU6CW|S5 Leather case,Protective Scratch Protection Metallic Finished Base with Colorful Style leather Case for Samsung S5,bridge                                                                                                                                                                                                                                               |\n",
            "|B00LP3FSH6|Escort Coiled SmartCord Combo                                                                                                                                                                                                                                                                                                                                             |\n",
            "|B00MIO2KRC|Black Box G1W-C Capacitor Model Dash Cam – Heat Resistant – Full HD 1080P H.264 2.7\" LCD Car DVR Video Recorder – WDR 140° Wide Angle 4x Zoom Motion Detection Night Vision G-Sensor                                                                                                                                                                                      |\n",
            "|B00V5FZM0M|KoKo Cases 5/5S !                                                                                                                                                                                                                                                                                                                                                         |\n",
            "|B00T1KO2TA|iPhone 6 & 6S Case, MCCC iDefender Heavy Duty Shockproof Series Case for iPhone 6 & 6S (4.7\") with Built-in Screen Protector/ Holster/ Compatible with all US Carriers (Opal Purple/Light Teal)                                                                                                                                                                           |\n",
            "|B00YU9XOTQ|Galaxy S5 Screen Protector,By Ailun,Tempered Glass,for Samsung Galaxy i9600,9H Hardness,2.5D Edge,Anti-Scratch,Bubble Free,Reduce Fingerprint&Oil Stain Coating,Case Friendly-Siania Retail Package                                                                                                                                                                       |\n",
            "|B00PI7IGHE|Soyan Latest DZ09 Watch Phone Bluetooth Smart watch Camera Watch WristWatch With Camera,SIM Card Slot and Protective Film Mate For Android Phones(Full functions)(Silver)                                                                                                                                                                                                 |\n",
            "+----------+--------------------------------------------------------------------------------------------------------------------------------------------------------------------------------------------------------------------------------------------------------------------------------------------------------------------------------------------------------------------------+\n",
            "only showing top 20 rows\n",
            "\n"
          ]
        }
      ],
      "source": [
        "# Create the \"products_df\" DataFrame that drops the duplicates in the \"product_id\" and \"product_title columns. \n",
        "products_df = df. select (['product_id', 'product_title']).dropDuplicates (['product_id', 'product_title'])\n",
        "products_df.show(truncate = False)"
      ]
    },
    {
      "cell_type": "markdown",
      "source": [
        "## Create the \"customers\" Table"
      ],
      "metadata": {
        "id": "LJHuZ9zut0e5"
      }
    },
    {
      "cell_type": "code",
      "execution_count": 13,
      "metadata": {
        "id": "_pF2Vf3c2n2O",
        "outputId": "e0ba5689-ce89-42db-a351-c7a0e4a07780",
        "colab": {
          "base_uri": "https://localhost:8080/"
        }
      },
      "outputs": [
        {
          "output_type": "stream",
          "name": "stdout",
          "text": [
            "+-----------+--------------+\n",
            "|customer_id|customer_count|\n",
            "+-----------+--------------+\n",
            "|    1355626|             1|\n",
            "|   15043009|             1|\n",
            "|   22770141|             3|\n",
            "|   45481568|             3|\n",
            "|   25404882|             2|\n",
            "|    4697081|             2|\n",
            "|   13888158|             3|\n",
            "|   18288553|             2|\n",
            "|   22279960|             1|\n",
            "|   25278739|             2|\n",
            "|   15407188|             1|\n",
            "|    5030775|            21|\n",
            "|   13267537|             1|\n",
            "|   29937804|             2|\n",
            "|   20919693|             1|\n",
            "|    8854514|             3|\n",
            "|   49258595|             8|\n",
            "|     234036|             1|\n",
            "|   33346823|             1|\n",
            "|    7403004|             1|\n",
            "+-----------+--------------+\n",
            "only showing top 20 rows\n",
            "\n"
          ]
        }
      ],
      "source": [
        "# Create the \"customers_df\" DataFrame that groups the data on the \"customer_id\" by the number of times a customer reviewed a product. \n",
        "customers_df = df. groupby ('customer_id').agg({'customer_id': \"count\"})\n",
        "customers_df = customers_df.withColumnRenamed (\"count(customer_id)\", \"customer_count\")\n",
        "customers_df.show()"
      ]
    },
    {
      "cell_type": "markdown",
      "source": [
        "## Create the \"vine_table\"."
      ],
      "metadata": {
        "id": "8SbTasxbuXGK"
      }
    },
    {
      "cell_type": "code",
      "execution_count": 14,
      "metadata": {
        "id": "WHQKbmCE2p3Q",
        "outputId": "842e65a2-5cf2-4d35-f0a5-da6049fbe020",
        "colab": {
          "base_uri": "https://localhost:8080/"
        }
      },
      "outputs": [
        {
          "output_type": "stream",
          "name": "stdout",
          "text": [
            "+--------------+-----------+-------------+-----------+----+\n",
            "|     review_id|star_rating|helpful_votes|total_votes|vine|\n",
            "+--------------+-----------+-------------+-----------+----+\n",
            "|R3W4P9UBGNGH1U|          2|            1|          3|   N|\n",
            "|R15V54KBMTQWAY|          4|            0|          0|   N|\n",
            "| RY8I449HNXSVF|          5|            0|          0|   N|\n",
            "|R18TLJYCKJFLSR|          5|            0|          0|   N|\n",
            "|R1NK26SWS53B8Q|          5|            0|          0|   N|\n",
            "|R11LOHEDYJALTN|          5|            0|          0|   N|\n",
            "|R3ALQVQB2P9LA7|          4|            0|          0|   N|\n",
            "|R3MWLXLNO21PDQ|          5|            0|          0|   N|\n",
            "|R2L15IS24CX0LI|          5|            0|          0|   N|\n",
            "|R1DJ8976WPWVZU|          3|            0|          0|   N|\n",
            "|R3MRWNNR8CBTB7|          5|            0|          0|   N|\n",
            "|R1DS6DKTUXAQK3|          5|            0|          0|   N|\n",
            "| RWJM5E0TWUJD2|          5|            0|          0|   N|\n",
            "|R1XTJKDYNCRGAC|          1|            0|          0|   N|\n",
            "|R2UZL3DPWEU1XW|          5|            0|          0|   N|\n",
            "|R2EZXET9KBFFU3|          1|            0|          0|   N|\n",
            "|R26VY1L1FD3LPU|          5|            0|          0|   N|\n",
            "|R2SSA4NSFCV18T|          5|            0|          0|   N|\n",
            "|R1G6333JHJNEUQ|          5|            0|          0|   N|\n",
            "|R2DRG0UZXJQ0PE|          5|            0|          0|   N|\n",
            "+--------------+-----------+-------------+-----------+----+\n",
            "only showing top 20 rows\n",
            "\n"
          ]
        }
      ],
      "source": [
        "# Create the \"vine_df\" DataFrame that has the \"review_id\", \"star_rating\", \"helpful_votes\", \"total_votes\", and \"vine\" columns. \n",
        "vine_df = df.select (['review_id', 'star_rating', 'helpful_votes', 'total_votes', 'vine'])\n",
        "vine_df.show()"
      ]
    },
    {
      "cell_type": "markdown",
      "metadata": {
        "id": "I8aTsEjZ2s6L"
      },
      "source": [
        "# Load"
      ]
    },
    {
      "cell_type": "code",
      "execution_count": 20,
      "metadata": {
        "id": "W4dzUKfI2vXM"
      },
      "outputs": [],
      "source": [
        "mode = \"append\"\n",
        "jdbc_url=\"jdbc:postgresql://<insert endpoint>:5432/mypostgres\"\n",
        "config = {\"user\":\"root\", \"password\": \"your_password\", \"driver\":\"org.postgresql.Driver\"}"
      ]
    },
    {
      "cell_type": "code",
      "execution_count": null,
      "metadata": {
        "id": "iOxKqMsD2yVs"
      },
      "outputs": [],
      "source": [
        "# Write review_id_df to table in RDS\n",
        "review_id_df.write.jdbc(url=jdbc_url, table='review_id_wireless', mode=mode, properties=config)"
      ]
    },
    {
      "cell_type": "code",
      "execution_count": null,
      "metadata": {
        "id": "pPXyGVE-2yPJ"
      },
      "outputs": [],
      "source": [
        "# Write products_df to table in RDS\n",
        "products_df.write.jdbc(url=jdbc_url, table='products_wireless', mode=mode, properties=config)"
      ]
    },
    {
      "cell_type": "code",
      "execution_count": null,
      "metadata": {
        "id": "aHbca4zN2yIa"
      },
      "outputs": [],
      "source": [
        "# Write customers_df to table in RDS\n",
        "customers_df.write.jdbc(url=jdbc_url, table='customers_wireless', mode=mode, properties=config)"
      ]
    },
    {
      "cell_type": "code",
      "execution_count": null,
      "metadata": {
        "id": "2HfOFneW2x_F"
      },
      "outputs": [],
      "source": [
        "# Write vine_df to table in RDS\n",
        "vine_df.write.jdbc(url=jdbc_url, table='vine_wireless', mode=mode, properties=config)"
      ]
    }
  ],
  "metadata": {
    "colab": {
      "provenance": []
    },
    "kernelspec": {
      "display_name": "Python 3",
      "language": "python",
      "name": "python3"
    },
    "language_info": {
      "codemirror_mode": {
        "name": "ipython",
        "version": 3
      },
      "file_extension": ".py",
      "mimetype": "text/x-python",
      "name": "python",
      "nbconvert_exporter": "python",
      "pygments_lexer": "ipython3",
      "version": "3.8.8"
    }
  },
  "nbformat": 4,
  "nbformat_minor": 0
}